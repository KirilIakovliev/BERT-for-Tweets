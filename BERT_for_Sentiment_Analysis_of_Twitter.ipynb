{
  "nbformat": 4,
  "nbformat_minor": 0,
  "metadata": {
    "colab": {
      "name": "BERT for Sentiment Analysis of Twitter",
      "provenance": [],
      "collapsed_sections": [],
      "toc_visible": true,
      "machine_shape": "hm"
    },
    "kernelspec": {
      "name": "python3",
      "display_name": "Python 3"
    },
    "accelerator": "GPU"
  },
  "cells": [
    {
      "cell_type": "markdown",
      "metadata": {
        "id": "e8gqQxsE2MAM",
        "colab_type": "text"
      },
      "source": [
        "### 1. Importing libraries and dataset"
      ]
    },
    {
      "cell_type": "code",
      "metadata": {
        "id": "lO7XOQqzHCbQ",
        "colab_type": "code",
        "outputId": "4743325a-3a35-482a-f402-d22c1e843f04",
        "colab": {
          "base_uri": "https://localhost:8080/",
          "height": 114
        }
      },
      "source": [
        "\n",
        "!pip install bert-tensorflow\n",
        "\n",
        "import tensorflow as tf\n",
        "from tensorflow.keras import backend as K\n",
        "import warnings\n",
        "\n",
        "import tensorflow_hub as hub\n",
        "from bert.tokenization import FullTokenizer\n",
        "from tqdm import tqdm_notebook\n",
        "warnings.filterwarnings('ignore')\n",
        "\n",
        "import pandas as pd\n",
        "import numpy as np\n",
        "import matplotlib.pyplot as plt\n",
        "import seaborn as sns\n",
        "\n",
        "\n",
        "from nltk.corpus import stopwords\n",
        "from bs4 import BeautifulSoup\n",
        "import re\n",
        "\n",
        "from sklearn.feature_extraction.text import CountVectorizer\n",
        "from sklearn.preprocessing import LabelEncoder\n",
        "from sklearn.model_selection import train_test_split\n",
        "from sklearn.utils.class_weight import compute_class_weight\n",
        "\n",
        "from keras.utils import to_categorical\n",
        "from keras.preprocessing.text import Tokenizer\n",
        "from keras.preprocessing import sequence\n",
        "from keras.preprocessing.sequence import pad_sequences\n",
        "from keras import optimizers"
      ],
      "execution_count": 0,
      "outputs": [
        {
          "output_type": "stream",
          "text": [
            "Requirement already satisfied: bert-tensorflow in /usr/local/lib/python3.6/dist-packages (1.0.1)\n",
            "Requirement already satisfied: six in /usr/local/lib/python3.6/dist-packages (from bert-tensorflow) (1.12.0)\n"
          ],
          "name": "stdout"
        },
        {
          "output_type": "display_data",
          "data": {
            "text/html": [
              "<p style=\"color: red;\">\n",
              "The default version of TensorFlow in Colab will soon switch to TensorFlow 2.x.<br>\n",
              "We recommend you <a href=\"https://www.tensorflow.org/guide/migrate\" target=\"_blank\">upgrade</a> now \n",
              "or ensure your notebook will continue to use TensorFlow 1.x via the <code>%tensorflow_version 1.x</code> magic:\n",
              "<a href=\"https://colab.research.google.com/notebooks/tensorflow_version.ipynb\" target=\"_blank\">more info</a>.</p>\n"
            ],
            "text/plain": [
              "<IPython.core.display.HTML object>"
            ]
          },
          "metadata": {
            "tags": []
          }
        },
        {
          "output_type": "stream",
          "text": [
            "Using TensorFlow backend.\n"
          ],
          "name": "stderr"
        }
      ]
    },
    {
      "cell_type": "code",
      "metadata": {
        "id": "UN_J5HzjtUcP",
        "colab_type": "code",
        "colab": {}
      },
      "source": [
        "data = pd.read_csv('Tweets.csv')"
      ],
      "execution_count": 0,
      "outputs": []
    },
    {
      "cell_type": "markdown",
      "metadata": {
        "id": "ipo4Hj107_S4",
        "colab_type": "text"
      },
      "source": [
        "### 2. Initial look at the data"
      ]
    },
    {
      "cell_type": "code",
      "metadata": {
        "id": "oU8Q27OstYyL",
        "colab_type": "code",
        "outputId": "c4a364de-24c5-47f2-dba4-229d66d1fca8",
        "colab": {
          "base_uri": "https://localhost:8080/",
          "height": 445
        }
      },
      "source": [
        "data.head()"
      ],
      "execution_count": 0,
      "outputs": [
        {
          "output_type": "execute_result",
          "data": {
            "text/html": [
              "<div>\n",
              "<style scoped>\n",
              "    .dataframe tbody tr th:only-of-type {\n",
              "        vertical-align: middle;\n",
              "    }\n",
              "\n",
              "    .dataframe tbody tr th {\n",
              "        vertical-align: top;\n",
              "    }\n",
              "\n",
              "    .dataframe thead th {\n",
              "        text-align: right;\n",
              "    }\n",
              "</style>\n",
              "<table border=\"1\" class=\"dataframe\">\n",
              "  <thead>\n",
              "    <tr style=\"text-align: right;\">\n",
              "      <th></th>\n",
              "      <th>tweet_id</th>\n",
              "      <th>airline_sentiment</th>\n",
              "      <th>airline_sentiment_confidence</th>\n",
              "      <th>negativereason</th>\n",
              "      <th>negativereason_confidence</th>\n",
              "      <th>airline</th>\n",
              "      <th>airline_sentiment_gold</th>\n",
              "      <th>name</th>\n",
              "      <th>negativereason_gold</th>\n",
              "      <th>retweet_count</th>\n",
              "      <th>text</th>\n",
              "      <th>tweet_coord</th>\n",
              "      <th>tweet_created</th>\n",
              "      <th>tweet_location</th>\n",
              "      <th>user_timezone</th>\n",
              "    </tr>\n",
              "  </thead>\n",
              "  <tbody>\n",
              "    <tr>\n",
              "      <th>0</th>\n",
              "      <td>570306133677760513</td>\n",
              "      <td>neutral</td>\n",
              "      <td>1.0000</td>\n",
              "      <td>NaN</td>\n",
              "      <td>NaN</td>\n",
              "      <td>Virgin America</td>\n",
              "      <td>NaN</td>\n",
              "      <td>cairdin</td>\n",
              "      <td>NaN</td>\n",
              "      <td>0</td>\n",
              "      <td>@VirginAmerica What @dhepburn said.</td>\n",
              "      <td>NaN</td>\n",
              "      <td>2015-02-24 11:35:52 -0800</td>\n",
              "      <td>NaN</td>\n",
              "      <td>Eastern Time (US &amp; Canada)</td>\n",
              "    </tr>\n",
              "    <tr>\n",
              "      <th>1</th>\n",
              "      <td>570301130888122368</td>\n",
              "      <td>positive</td>\n",
              "      <td>0.3486</td>\n",
              "      <td>NaN</td>\n",
              "      <td>0.0000</td>\n",
              "      <td>Virgin America</td>\n",
              "      <td>NaN</td>\n",
              "      <td>jnardino</td>\n",
              "      <td>NaN</td>\n",
              "      <td>0</td>\n",
              "      <td>@VirginAmerica plus you've added commercials t...</td>\n",
              "      <td>NaN</td>\n",
              "      <td>2015-02-24 11:15:59 -0800</td>\n",
              "      <td>NaN</td>\n",
              "      <td>Pacific Time (US &amp; Canada)</td>\n",
              "    </tr>\n",
              "    <tr>\n",
              "      <th>2</th>\n",
              "      <td>570301083672813571</td>\n",
              "      <td>neutral</td>\n",
              "      <td>0.6837</td>\n",
              "      <td>NaN</td>\n",
              "      <td>NaN</td>\n",
              "      <td>Virgin America</td>\n",
              "      <td>NaN</td>\n",
              "      <td>yvonnalynn</td>\n",
              "      <td>NaN</td>\n",
              "      <td>0</td>\n",
              "      <td>@VirginAmerica I didn't today... Must mean I n...</td>\n",
              "      <td>NaN</td>\n",
              "      <td>2015-02-24 11:15:48 -0800</td>\n",
              "      <td>Lets Play</td>\n",
              "      <td>Central Time (US &amp; Canada)</td>\n",
              "    </tr>\n",
              "    <tr>\n",
              "      <th>3</th>\n",
              "      <td>570301031407624196</td>\n",
              "      <td>negative</td>\n",
              "      <td>1.0000</td>\n",
              "      <td>Bad Flight</td>\n",
              "      <td>0.7033</td>\n",
              "      <td>Virgin America</td>\n",
              "      <td>NaN</td>\n",
              "      <td>jnardino</td>\n",
              "      <td>NaN</td>\n",
              "      <td>0</td>\n",
              "      <td>@VirginAmerica it's really aggressive to blast...</td>\n",
              "      <td>NaN</td>\n",
              "      <td>2015-02-24 11:15:36 -0800</td>\n",
              "      <td>NaN</td>\n",
              "      <td>Pacific Time (US &amp; Canada)</td>\n",
              "    </tr>\n",
              "    <tr>\n",
              "      <th>4</th>\n",
              "      <td>570300817074462722</td>\n",
              "      <td>negative</td>\n",
              "      <td>1.0000</td>\n",
              "      <td>Can't Tell</td>\n",
              "      <td>1.0000</td>\n",
              "      <td>Virgin America</td>\n",
              "      <td>NaN</td>\n",
              "      <td>jnardino</td>\n",
              "      <td>NaN</td>\n",
              "      <td>0</td>\n",
              "      <td>@VirginAmerica and it's a really big bad thing...</td>\n",
              "      <td>NaN</td>\n",
              "      <td>2015-02-24 11:14:45 -0800</td>\n",
              "      <td>NaN</td>\n",
              "      <td>Pacific Time (US &amp; Canada)</td>\n",
              "    </tr>\n",
              "  </tbody>\n",
              "</table>\n",
              "</div>"
            ],
            "text/plain": [
              "             tweet_id  ...               user_timezone\n",
              "0  570306133677760513  ...  Eastern Time (US & Canada)\n",
              "1  570301130888122368  ...  Pacific Time (US & Canada)\n",
              "2  570301083672813571  ...  Central Time (US & Canada)\n",
              "3  570301031407624196  ...  Pacific Time (US & Canada)\n",
              "4  570300817074462722  ...  Pacific Time (US & Canada)\n",
              "\n",
              "[5 rows x 15 columns]"
            ]
          },
          "metadata": {
            "tags": []
          },
          "execution_count": 3
        }
      ]
    },
    {
      "cell_type": "code",
      "metadata": {
        "id": "Q8dAilFIv8Lj",
        "colab_type": "code",
        "outputId": "b4d787f8-17e1-4fc4-dec9-4fb099689fa9",
        "colab": {
          "base_uri": "https://localhost:8080/",
          "height": 475
        }
      },
      "source": [
        "figsize=(15, 5)\n",
        "\n",
        "ticksize = 14\n",
        "titlesize = ticksize + 8\n",
        "labelsize = ticksize + 5\n",
        "\n",
        "params = {'figure.figsize' : figsize,\n",
        "          'axes.labelsize' : labelsize,\n",
        "          'axes.titlesize' : titlesize,\n",
        "          'xtick.labelsize': ticksize,\n",
        "          'ytick.labelsize': ticksize}\n",
        "\n",
        "plt.rcParams.update(params)\n",
        "\n",
        "plt.subplot(121)\n",
        "sns.countplot(x=data[\"airline\"])\n",
        "plt.title(\"Airlines Review Count\")\n",
        "plt.xticks(rotation=90)\n",
        "plt.xlabel(\"Airlines\")\n",
        "plt.ylabel(\"Count\")\n",
        "plt.plot()\n",
        "\n",
        "plt.subplot(122)\n",
        "sns.countplot(data[\"airline_sentiment\"])\n",
        "plt.title(\"Review Sentiment Count\")\n",
        "plt.xlabel(\"Sentiment\")\n",
        "plt.ylabel(\"Count\")\n",
        "plt.xticks(rotation=90)\n",
        "plt.plot()"
      ],
      "execution_count": 0,
      "outputs": [
        {
          "output_type": "execute_result",
          "data": {
            "text/plain": [
              "[]"
            ]
          },
          "metadata": {
            "tags": []
          },
          "execution_count": 56
        },
        {
          "output_type": "display_data",
          "data": {
            "image/png": "[encoded data removed]",
            "text/plain": [
              "<Figure size 1080x360 with 2 Axes>"
            ]
          },
          "metadata": {
            "tags": []
          }
        }
      ]
    },
    {
      "cell_type": "code",
      "metadata": {
        "id": "-TeYaE012B_J",
        "colab_type": "code",
        "colab": {}
      },
      "source": [
        "# Mostly the data is represented as a negative class, but we could \n",
        "# deal with that by changing a class weight to stabilize a training process\n",
        "\n",
        "def class_weight_balance(y):\n",
        "  get_weights = compute_class_weight('balanced', np.unique(y), y)\n",
        "  return get_weights"
      ],
      "execution_count": 0,
      "outputs": []
    },
    {
      "cell_type": "code",
      "metadata": {
        "id": "7otYQo3_rzAB",
        "colab_type": "code",
        "outputId": "2e4bb498-a442-4084-bacb-b321962548e9",
        "colab": {
          "base_uri": "https://localhost:8080/",
          "height": 445
        }
      },
      "source": [
        "data.head()"
      ],
      "execution_count": 0,
      "outputs": [
        {
          "output_type": "execute_result",
          "data": {
            "text/html": [
              "<div>\n",
              "<style scoped>\n",
              "    .dataframe tbody tr th:only-of-type {\n",
              "        vertical-align: middle;\n",
              "    }\n",
              "\n",
              "    .dataframe tbody tr th {\n",
              "        vertical-align: top;\n",
              "    }\n",
              "\n",
              "    .dataframe thead th {\n",
              "        text-align: right;\n",
              "    }\n",
              "</style>\n",
              "<table border=\"1\" class=\"dataframe\">\n",
              "  <thead>\n",
              "    <tr style=\"text-align: right;\">\n",
              "      <th></th>\n",
              "      <th>tweet_id</th>\n",
              "      <th>airline_sentiment</th>\n",
              "      <th>airline_sentiment_confidence</th>\n",
              "      <th>negativereason</th>\n",
              "      <th>negativereason_confidence</th>\n",
              "      <th>airline</th>\n",
              "      <th>airline_sentiment_gold</th>\n",
              "      <th>name</th>\n",
              "      <th>negativereason_gold</th>\n",
              "      <th>retweet_count</th>\n",
              "      <th>text</th>\n",
              "      <th>tweet_coord</th>\n",
              "      <th>tweet_created</th>\n",
              "      <th>tweet_location</th>\n",
              "      <th>user_timezone</th>\n",
              "    </tr>\n",
              "  </thead>\n",
              "  <tbody>\n",
              "    <tr>\n",
              "      <th>0</th>\n",
              "      <td>570306133677760513</td>\n",
              "      <td>neutral</td>\n",
              "      <td>1.0000</td>\n",
              "      <td>NaN</td>\n",
              "      <td>NaN</td>\n",
              "      <td>Virgin America</td>\n",
              "      <td>NaN</td>\n",
              "      <td>cairdin</td>\n",
              "      <td>NaN</td>\n",
              "      <td>0</td>\n",
              "      <td>@VirginAmerica What @dhepburn said.</td>\n",
              "      <td>NaN</td>\n",
              "      <td>2015-02-24 11:35:52 -0800</td>\n",
              "      <td>NaN</td>\n",
              "      <td>Eastern Time (US &amp; Canada)</td>\n",
              "    </tr>\n",
              "    <tr>\n",
              "      <th>1</th>\n",
              "      <td>570301130888122368</td>\n",
              "      <td>positive</td>\n",
              "      <td>0.3486</td>\n",
              "      <td>NaN</td>\n",
              "      <td>0.0000</td>\n",
              "      <td>Virgin America</td>\n",
              "      <td>NaN</td>\n",
              "      <td>jnardino</td>\n",
              "      <td>NaN</td>\n",
              "      <td>0</td>\n",
              "      <td>@VirginAmerica plus you've added commercials t...</td>\n",
              "      <td>NaN</td>\n",
              "      <td>2015-02-24 11:15:59 -0800</td>\n",
              "      <td>NaN</td>\n",
              "      <td>Pacific Time (US &amp; Canada)</td>\n",
              "    </tr>\n",
              "    <tr>\n",
              "      <th>2</th>\n",
              "      <td>570301083672813571</td>\n",
              "      <td>neutral</td>\n",
              "      <td>0.6837</td>\n",
              "      <td>NaN</td>\n",
              "      <td>NaN</td>\n",
              "      <td>Virgin America</td>\n",
              "      <td>NaN</td>\n",
              "      <td>yvonnalynn</td>\n",
              "      <td>NaN</td>\n",
              "      <td>0</td>\n",
              "      <td>@VirginAmerica I didn't today... Must mean I n...</td>\n",
              "      <td>NaN</td>\n",
              "      <td>2015-02-24 11:15:48 -0800</td>\n",
              "      <td>Lets Play</td>\n",
              "      <td>Central Time (US &amp; Canada)</td>\n",
              "    </tr>\n",
              "    <tr>\n",
              "      <th>3</th>\n",
              "      <td>570301031407624196</td>\n",
              "      <td>negative</td>\n",
              "      <td>1.0000</td>\n",
              "      <td>Bad Flight</td>\n",
              "      <td>0.7033</td>\n",
              "      <td>Virgin America</td>\n",
              "      <td>NaN</td>\n",
              "      <td>jnardino</td>\n",
              "      <td>NaN</td>\n",
              "      <td>0</td>\n",
              "      <td>@VirginAmerica it's really aggressive to blast...</td>\n",
              "      <td>NaN</td>\n",
              "      <td>2015-02-24 11:15:36 -0800</td>\n",
              "      <td>NaN</td>\n",
              "      <td>Pacific Time (US &amp; Canada)</td>\n",
              "    </tr>\n",
              "    <tr>\n",
              "      <th>4</th>\n",
              "      <td>570300817074462722</td>\n",
              "      <td>negative</td>\n",
              "      <td>1.0000</td>\n",
              "      <td>Can't Tell</td>\n",
              "      <td>1.0000</td>\n",
              "      <td>Virgin America</td>\n",
              "      <td>NaN</td>\n",
              "      <td>jnardino</td>\n",
              "      <td>NaN</td>\n",
              "      <td>0</td>\n",
              "      <td>@VirginAmerica and it's a really big bad thing...</td>\n",
              "      <td>NaN</td>\n",
              "      <td>2015-02-24 11:14:45 -0800</td>\n",
              "      <td>NaN</td>\n",
              "      <td>Pacific Time (US &amp; Canada)</td>\n",
              "    </tr>\n",
              "  </tbody>\n",
              "</table>\n",
              "</div>"
            ],
            "text/plain": [
              "             tweet_id  ...               user_timezone\n",
              "0  570306133677760513  ...  Eastern Time (US & Canada)\n",
              "1  570301130888122368  ...  Pacific Time (US & Canada)\n",
              "2  570301083672813571  ...  Central Time (US & Canada)\n",
              "3  570301031407624196  ...  Pacific Time (US & Canada)\n",
              "4  570300817074462722  ...  Pacific Time (US & Canada)\n",
              "\n",
              "[5 rows x 15 columns]"
            ]
          },
          "metadata": {
            "tags": []
          },
          "execution_count": 6
        }
      ]
    },
    {
      "cell_type": "code",
      "metadata": {
        "id": "6-Hw49T29g4_",
        "colab_type": "code",
        "outputId": "df79ad41-649a-49b9-d2cb-7cf15ef07edd",
        "colab": {
          "base_uri": "https://localhost:8080/",
          "height": 349
        }
      },
      "source": [
        "# Another aspect of sentiment is the confidence of the airline about provided\n",
        "# sentiment score. Obviosuly this associates with unsusual language that might\n",
        "# confuse about intention of a customer. Apparently we should use only part of the dataset\n",
        "\n",
        "confidence = data['airline_sentiment_confidence']\n",
        "sns.distplot(confidence)\n",
        "plt.show()\n"
      ],
      "execution_count": 0,
      "outputs": [
        {
          "output_type": "display_data",
          "data": {
            "image/png": "[encoded data removed]",
            "text/plain": [
              "<Figure size 1080x360 with 1 Axes>"
            ]
          },
          "metadata": {
            "tags": []
          }
        }
      ]
    },
    {
      "cell_type": "code",
      "metadata": {
        "id": "CuNZnMRNDRix",
        "colab_type": "code",
        "colab": {}
      },
      "source": [
        "# There is a small fraction of confidence lower than 0.5, so we could\n",
        "# disregard with this part to avoid possible classification \n",
        "\n",
        "data = data[data['airline_sentiment_confidence'] > 0.5]\n",
        "data = data.reset_index()"
      ],
      "execution_count": 0,
      "outputs": []
    },
    {
      "cell_type": "markdown",
      "metadata": {
        "id": "LaLUkCjfGfiY",
        "colab_type": "text"
      },
      "source": [
        "### 3. Text preprocessing"
      ]
    },
    {
      "cell_type": "code",
      "metadata": {
        "id": "U_y3OvDF8G9c",
        "colab_type": "code",
        "outputId": "01aa8fe7-8f02-493a-d988-6a3c71794e4a",
        "colab": {
          "base_uri": "https://localhost:8080/",
          "height": 122
        }
      },
      "source": [
        "# In this project we are dealing with the mixed data. Besides \n",
        "# some characteristics of the tweets, there is some text provided\n",
        "# of each sentiment. In means that we should start with a text preprocessing.\n",
        "# Let's take a look on the samples in the text section\n",
        "\n",
        "print(data['text'][0])\n",
        "print(data['text'][2])\n",
        "print(data['text'][3])\n",
        "print(data['text'][4])"
      ],
      "execution_count": 0,
      "outputs": [
        {
          "output_type": "stream",
          "text": [
            "@VirginAmerica What @dhepburn said.\n",
            "@VirginAmerica it's really aggressive to blast obnoxious \"entertainment\" in your guests' faces &amp; they have little recourse\n",
            "@VirginAmerica and it's a really big bad thing about it\n",
            "@VirginAmerica seriously would pay $30 a flight for seats that didn't have this playing.\n",
            "it's really the only bad thing about flying VA\n"
          ],
          "name": "stdout"
        }
      ]
    },
    {
      "cell_type": "code",
      "metadata": {
        "id": "k6WL5oD96WRF",
        "colab_type": "code",
        "colab": {}
      },
      "source": [
        "# We could notice some freedom in style of expressing that \n",
        "# makes the difference comparing with other tasks\n",
        "# Firstly let's make some preprocessing of the text \n",
        "# to make a general view for a further training\n",
        "\n",
        "def preprocess(text):\n",
        "  for i in range(len(text)):\n",
        "    text[i] = BeautifulSoup(text[i], \"lxml\").get_text()\n",
        "    text[i] = text[i].lower()\n",
        "    text[i] = re.sub(\"[^a-zA-Z]\", \" \", text[i])\n",
        "    text[i] = re.sub(\"\\s+\", \" \", text[i])\n",
        "  return text"
      ],
      "execution_count": 0,
      "outputs": []
    },
    {
      "cell_type": "code",
      "metadata": {
        "id": "Z9B_tSJrHNm0",
        "colab_type": "code",
        "colab": {}
      },
      "source": [
        "data.reset_index()\n",
        "data['text'] = preprocess(data['text'])"
      ],
      "execution_count": 0,
      "outputs": []
    },
    {
      "cell_type": "code",
      "metadata": {
        "id": "c2PT28BS9Dtk",
        "colab_type": "code",
        "outputId": "f18b2511-ba51-48f6-b547-bf40a092a489",
        "colab": {
          "base_uri": "https://localhost:8080/",
          "height": 34
        }
      },
      "source": [
        "# If we look deeply at the dataset, basically the general part\n",
        "# of our data do not have an explanatory power of tweet sentiment, so we will \n",
        "# concetrate on the text part\n",
        "\n",
        "y = data['airline_sentiment']\n",
        "x = data['text']\n",
        "\n",
        "lb = LabelEncoder()\n",
        "Y = to_categorical(lb.fit_transform(y))\n",
        "\n",
        "max_words = len(set(\" \".join(x).split()))\n",
        "max_len = x.apply(lambda x: len(x)).max()\n",
        "\n",
        "tokenizer = Tokenizer(num_words=max_words)\n",
        "tokenizer.fit_on_texts(x)\n",
        "train_seq = tokenizer.texts_to_sequences(x)\n",
        "train_seq = sequence.pad_sequences(train_seq, maxlen=max_len)\n",
        "\n",
        "x_train, x_test, y_train, y_test = train_test_split(train_seq, Y, test_size=0.2)\n",
        "print(max_len)"
      ],
      "execution_count": 0,
      "outputs": [
        {
          "output_type": "stream",
          "text": [
            "176\n"
          ],
          "name": "stdout"
        }
      ]
    },
    {
      "cell_type": "markdown",
      "metadata": {
        "id": "xLsSMGI3KOPU",
        "colab_type": "text"
      },
      "source": [
        "### 4. Model training"
      ]
    },
    {
      "cell_type": "markdown",
      "metadata": {
        "id": "U5-dG2vH-JMT",
        "colab_type": "text"
      },
      "source": [
        "#### 4.1 RNN"
      ]
    },
    {
      "cell_type": "code",
      "metadata": {
        "id": "HlQ7LXrhFkEX",
        "colab_type": "code",
        "outputId": "207cda5e-1cd3-45ae-bdaa-f5269243eeca",
        "colab": {
          "base_uri": "https://localhost:8080/",
          "height": 853
        }
      },
      "source": [
        "# Build the LSTM\n",
        "sess = tf.Session()\n",
        "lstm_input = tf.keras.layers.Input(shape=(max_len,), name=\"lstm_input\")\n",
        "embeddings = tf.keras.layers.Embedding(max_len, 768, trainable = True)(lstm_input)\n",
        "lstm_layer = tf.keras.layers.LSTM(256)(embeddings)\n",
        "NN_layer = tf.keras.layers.Dense(512, activation='relu')(lstm_layer)\n",
        "pred = tf.keras.layers.Dense(3, activation='softmax')(NN_layer)\n",
        "model_lstm = tf.keras.models.Model(inputs=lstm_input, outputs=pred)\n",
        "model_lstm.compile(loss='categorical_crossentropy', optimizer='adam', metrics=['accuracy'])\n",
        "model_lstm.summary()\n",
        "\n",
        "sess.run(tf.local_variables_initializer())\n",
        "sess.run(tf.global_variables_initializer())\n",
        "sess.run(tf.tables_initializer())\n",
        "K.set_session(sess)\n",
        "class_weights_coef = class_weight_balance(y_train.flatten())\n",
        "\n",
        "verbose = 1\n",
        "epochs = 10\n",
        "batch_size = 128\n",
        "\n",
        "model1 = model_lstm.fit(\n",
        "    x_train,\n",
        "    y_train,\n",
        "    validation_data=(x_test, y_test),\n",
        "    batch_size=batch_size,\n",
        "    epochs=epochs,\n",
        "    verbose=verbose,\n",
        "    class_weight =class_weights_coef\n",
        "    )"
      ],
      "execution_count": 0,
      "outputs": [
        {
          "output_type": "stream",
          "text": [
            "WARNING:tensorflow:From /usr/local/lib/python3.6/dist-packages/tensorflow_core/python/keras/initializers.py:119: calling RandomUniform.__init__ (from tensorflow.python.ops.init_ops) with dtype is deprecated and will be removed in a future version.\n",
            "Instructions for updating:\n",
            "Call initializer instance with the dtype argument instead of passing it to the constructor\n",
            "WARNING:tensorflow:From /usr/local/lib/python3.6/dist-packages/tensorflow_core/python/ops/resource_variable_ops.py:1630: calling BaseResourceVariable.__init__ (from tensorflow.python.ops.resource_variable_ops) with constraint is deprecated and will be removed in a future version.\n",
            "Instructions for updating:\n",
            "If using Keras pass *_constraint arguments to layers.\n",
            "Model: \"model\"\n",
            "_________________________________________________________________\n",
            "Layer (type)                 Output Shape              Param #   \n",
            "=================================================================\n",
            "lstm_input (InputLayer)      [(None, 176)]             0         \n",
            "_________________________________________________________________\n",
            "embedding (Embedding)        (None, 176, 768)          135168    \n",
            "_________________________________________________________________\n",
            "lstm (LSTM)                  (None, 256)               1049600   \n",
            "_________________________________________________________________\n",
            "dense (Dense)                (None, 512)               131584    \n",
            "_________________________________________________________________\n",
            "dense_1 (Dense)              (None, 3)                 1539      \n",
            "=================================================================\n",
            "Total params: 1,317,891\n",
            "Trainable params: 1,317,891\n",
            "Non-trainable params: 0\n",
            "_________________________________________________________________\n",
            "WARNING:tensorflow:From /usr/local/lib/python3.6/dist-packages/tensorflow_core/python/ops/math_grad.py:1424: where (from tensorflow.python.ops.array_ops) is deprecated and will be removed in a future version.\n",
            "Instructions for updating:\n",
            "Use tf.where in 2.0, which has the same broadcast rule as np.where\n",
            "Train on 11523 samples, validate on 2881 samples\n",
            "Epoch 1/10\n",
            "11523/11523 [==============================] - 31s 3ms/sample - loss: 0.7507 - acc: 0.6875 - val_loss: 0.6086 - val_acc: 0.7570\n",
            "Epoch 2/10\n",
            "11523/11523 [==============================] - 30s 3ms/sample - loss: 0.5892 - acc: 0.7616 - val_loss: 0.5896 - val_acc: 0.7674\n",
            "Epoch 3/10\n",
            "11523/11523 [==============================] - 30s 3ms/sample - loss: 0.5669 - acc: 0.7742 - val_loss: 0.5828 - val_acc: 0.7706\n",
            "Epoch 4/10\n",
            "11523/11523 [==============================] - 30s 3ms/sample - loss: 0.5610 - acc: 0.7745 - val_loss: 0.5760 - val_acc: 0.7733\n",
            "Epoch 5/10\n",
            "11523/11523 [==============================] - 30s 3ms/sample - loss: 0.5622 - acc: 0.7712 - val_loss: 0.5586 - val_acc: 0.7817\n",
            "Epoch 6/10\n",
            "11523/11523 [==============================] - 30s 3ms/sample - loss: 0.5376 - acc: 0.7826 - val_loss: 0.5804 - val_acc: 0.7785\n",
            "Epoch 7/10\n",
            "11523/11523 [==============================] - 30s 3ms/sample - loss: 0.5289 - acc: 0.7876 - val_loss: 0.5721 - val_acc: 0.7785\n",
            "Epoch 8/10\n",
            "11523/11523 [==============================] - 30s 3ms/sample - loss: 0.5261 - acc: 0.7864 - val_loss: 0.5771 - val_acc: 0.7838\n",
            "Epoch 9/10\n",
            "11523/11523 [==============================] - 30s 3ms/sample - loss: 0.5133 - acc: 0.7937 - val_loss: 0.6148 - val_acc: 0.7615\n",
            "Epoch 10/10\n",
            "11523/11523 [==============================] - 30s 3ms/sample - loss: 0.5276 - acc: 0.7871 - val_loss: 0.6118 - val_acc: 0.7685\n"
          ],
          "name": "stdout"
        }
      ]
    },
    {
      "cell_type": "code",
      "metadata": {
        "id": "_z6LwmhwZGRX",
        "colab_type": "code",
        "outputId": "084f080d-3dc8-452d-9eb1-5b21780a8409",
        "colab": {
          "base_uri": "https://localhost:8080/",
          "height": 361
        }
      },
      "source": [
        "plt.figure(figsize=(15,5))\n",
        "plt.subplot(122)\n",
        "plt.plot([i+1 for i in model1.epoch], model1.history['acc'])\n",
        "plt.plot([i+1 for i in model1.epoch], model1.history['val_acc'])\n",
        "ylim_pad = [0 , 0]\n",
        "\n",
        "y1 = model1.history['acc']\n",
        "y2 = model1.history['val_acc']\n",
        "\n",
        "min_y = min(min(y1), min(y2))-ylim_pad[0]\n",
        "max_y = max(max(y1), max(y2))+ylim_pad[0]\n",
        "\n",
        "\n",
        "\n",
        "plt.title('LSTM Model Accuracy, 10 epochs', fontsize = 15)\n",
        "plt.xlabel('Epoch', fontsize=15)\n",
        "plt.ylabel('Accuracy', fontsize=15)\n",
        "plt.ylim(min_y, max_y)\n",
        "plt.legend(['Training', 'Validation'], loc='upper left')\n",
        "plt.grid()\n",
        "plt.show()"
      ],
      "execution_count": 0,
      "outputs": [
        {
          "output_type": "display_data",
          "data": {
            "image/png": "[encoded data removed]",
            "text/plain": [
              "<Figure size 1080x360 with 1 Axes>"
            ]
          },
          "metadata": {
            "tags": []
          }
        }
      ]
    },
    {
      "cell_type": "code",
      "metadata": {
        "id": "d91kVf0YpL8X",
        "colab_type": "code",
        "colab": {}
      },
      "source": [
        "# As we might see it is enough to stop training on the 6th or 7th epoch"
      ],
      "execution_count": 0,
      "outputs": []
    },
    {
      "cell_type": "markdown",
      "metadata": {
        "id": "d3e9nBmrTghA",
        "colab_type": "text"
      },
      "source": [
        "#### 4.2 BERT Custom Model(switching to TPU runtime, if needed)"
      ]
    },
    {
      "cell_type": "code",
      "metadata": {
        "id": "p9YYp7TaGpX0",
        "colab_type": "code",
        "colab": {}
      },
      "source": [
        "bert_path = \"https://tfhub.dev/google/bert_uncased_L-12_H-768_A-12/1\"\n",
        "data = pd.read_csv('Tweets.csv')\n",
        "data = data[data['airline_sentiment_confidence'] > 0.5]\n",
        "data = data.reset_index()\n",
        "data['text'] = preprocess(data['text'])"
      ],
      "execution_count": 0,
      "outputs": []
    },
    {
      "cell_type": "code",
      "metadata": {
        "id": "i1ZxczhfUe8r",
        "colab_type": "code",
        "outputId": "380bec69-9c51-47ae-b7df-e3a2311cd796",
        "colab": {
          "base_uri": "https://localhost:8080/",
          "height": 34
        }
      },
      "source": [
        "y = data['airline_sentiment']\n",
        "x = data['text']\n",
        "lb = LabelEncoder()\n",
        "Y = to_categorical(lb.fit_transform(y))\n",
        "x_train, x_test, y_train, y_test = train_test_split(x, Y, test_size=0.2)\n",
        "max_len = x.apply(lambda x: len(x)).max() \n",
        "print(max_len)"
      ],
      "execution_count": 0,
      "outputs": [
        {
          "output_type": "stream",
          "text": [
            "176\n"
          ],
          "name": "stdout"
        }
      ]
    },
    {
      "cell_type": "code",
      "metadata": {
        "id": "Z7_FcC4zUe_t",
        "colab_type": "code",
        "colab": {}
      },
      "source": [
        "max_length = max_len\n",
        "#Train data \n",
        "train_text = x_train.tolist()\n",
        "train_text = [' '.join(t.split()[0:max_length]) for t in train_text]\n",
        "train_text = np.array(train_text, dtype=object)[:, np.newaxis]\n",
        "train_label = y_train\n",
        "\n",
        "#Test data\n",
        "test_text = x_test.tolist()\n",
        "test_text = [' '.join(t.split()[0:max_length]) for t in test_text]\n",
        "test_text = np.array(test_text, dtype=object)[:, np.newaxis]\n",
        "test_label = y_test\n"
      ],
      "execution_count": 0,
      "outputs": []
    },
    {
      "cell_type": "code",
      "metadata": {
        "id": "NgLkFdmmbeJX",
        "colab_type": "code",
        "colab": {}
      },
      "source": [
        "# Preprocessing and preparing data for BERT"
      ],
      "execution_count": 0,
      "outputs": []
    },
    {
      "cell_type": "code",
      "metadata": {
        "id": "dYN8KF20YdQm",
        "colab_type": "code",
        "colab": {}
      },
      "source": [
        "sess = tf.Session()\n",
        "\n",
        "\n",
        "\n",
        "class PaddingInputExample(object):\n",
        "    \"\"\" \"\"\"\n",
        "\n",
        "class InputExample(object):\n",
        "    \"\"\"A single training/test example for simple sequence classification.\"\"\"\n",
        "\n",
        "    def __init__(self, guid, text_a, text_b=None, label=None):\n",
        "\n",
        "        self.guid = guid\n",
        "        self.text_a = text_a\n",
        "        self.text_b = text_b\n",
        "        self.label = label\n",
        "\n",
        "def create_tokenizer_from_hub_module():\n",
        "    \"\"\"Get the vocab file and casing info from the Hub module.\"\"\"\n",
        "    bert_module =  hub.Module(bert_path)\n",
        "    tokenization_info = bert_module(signature=\"tokenization_info\", as_dict=True)\n",
        "    vocab_file, do_lower_case = sess.run(\n",
        "        [\n",
        "            tokenization_info[\"vocab_file\"],\n",
        "            tokenization_info[\"do_lower_case\"],\n",
        "        ]\n",
        "    )\n",
        "\n",
        "    return FullTokenizer(vocab_file=vocab_file, do_lower_case=do_lower_case)\n",
        "\n",
        "def convert_single_example(tokenizer, example, max_seq_length=max_length):\n",
        "    \"\"\"Converts a single `InputExample` into a single `InputFeatures`.\"\"\"\n",
        "\n",
        "    if isinstance(example, PaddingInputExample):\n",
        "        input_ids = [0] * max_seq_length\n",
        "        input_mask = [0] * max_seq_length\n",
        "        segment_ids = [0] * max_seq_length\n",
        "        label = 0\n",
        "        return input_ids, input_mask, segment_ids, label\n",
        "\n",
        "    tokens_a = tokenizer.tokenize(example.text_a)\n",
        "    if len(tokens_a) > max_seq_length - 2:\n",
        "        tokens_a = tokens_a[0 : (max_seq_length - 2)]\n",
        "\n",
        "    tokens = []\n",
        "    segment_ids = []\n",
        "    tokens.append(\"[CLS]\")\n",
        "    segment_ids.append(0)\n",
        "    for token in tokens_a:\n",
        "        tokens.append(token)\n",
        "        segment_ids.append(0)\n",
        "    tokens.append(\"[SEP]\")\n",
        "    segment_ids.append(0)\n",
        "\n",
        "    input_ids = tokenizer.convert_tokens_to_ids(tokens)\n",
        "\n",
        "    # The mask has 1 for real tokens and 0 for padding tokens. Only real\n",
        "    # tokens are attended to.\n",
        "    input_mask = [1] * len(input_ids)\n",
        "\n",
        "    # Zero-pad up to the sequence length.\n",
        "    while len(input_ids) < max_seq_length:\n",
        "        input_ids.append(0)\n",
        "        input_mask.append(0)\n",
        "        segment_ids.append(0)\n",
        "\n",
        "    assert len(input_ids) == max_seq_length\n",
        "    assert len(input_mask) == max_seq_length\n",
        "    assert len(segment_ids) == max_seq_length\n",
        "\n",
        "    return input_ids, input_mask, segment_ids, example.label\n",
        "\n",
        "def convert_examples_to_features(tokenizer, examples, max_seq_length=max_length):\n",
        "    \"\"\"Convert a set of `InputExample`s to a list of `InputFeatures`.\"\"\"\n",
        "\n",
        "    input_ids, input_masks, segment_ids, labels = [], [], [], []\n",
        "    for example in tqdm_notebook(examples, desc=\"Converting examples to features\"):\n",
        "        input_id, input_mask, segment_id, label = convert_single_example(\n",
        "            tokenizer, example, max_seq_length\n",
        "        )\n",
        "        input_ids.append(input_id)\n",
        "        input_masks.append(input_mask)\n",
        "        segment_ids.append(segment_id)\n",
        "        labels.append(label)\n",
        "    return (\n",
        "        np.array(input_ids),\n",
        "        np.array(input_masks),\n",
        "        np.array(segment_ids),\n",
        "        np.array(labels)\n",
        "    )\n",
        "\n",
        "def convert_text_to_examples(texts, labels):\n",
        "    \"\"\"Create InputExamples\"\"\"\n",
        "    InputExamples = []\n",
        "    for text, label in zip(texts, labels):\n",
        "        InputExamples.append(\n",
        "            InputExample(guid=None, text_a=\" \".join(text), text_b=None, label=label)\n",
        "        )\n",
        "    return InputExamples"
      ],
      "execution_count": 0,
      "outputs": []
    },
    {
      "cell_type": "code",
      "metadata": {
        "id": "DGuuwjqrYdUA",
        "colab_type": "code",
        "outputId": "a337c6ac-f978-4e74-ef4a-f0a37a725c24",
        "colab": {
          "base_uri": "https://localhost:8080/",
          "height": 173
        }
      },
      "source": [
        "# Instantiate tokenizer\n",
        "tokenizer = create_tokenizer_from_hub_module()\n",
        "\n",
        "# Convert data to InputExample format\n",
        "train_examples = convert_text_to_examples(train_text, train_label)\n",
        "test_examples = convert_text_to_examples(test_text, test_label)\n",
        "\n",
        "# Convert to features\n",
        "(train_input_ids, train_input_masks, train_segment_ids, train_labels \n",
        ") = convert_examples_to_features(tokenizer, train_examples, max_seq_length=max_len)\n",
        "(test_input_ids, test_input_masks, test_segment_ids, test_labels\n",
        ") = convert_examples_to_features(tokenizer, test_examples, max_seq_length=max_len)"
      ],
      "execution_count": 0,
      "outputs": [
        {
          "output_type": "stream",
          "text": [
            "INFO:tensorflow:Saver not created because there are no variables in the graph to restore\n"
          ],
          "name": "stdout"
        },
        {
          "output_type": "stream",
          "text": [
            "INFO:tensorflow:Saver not created because there are no variables in the graph to restore\n"
          ],
          "name": "stderr"
        },
        {
          "output_type": "stream",
          "text": [
            "WARNING:tensorflow:From /usr/local/lib/python3.6/dist-packages/bert/tokenization.py:125: The name tf.gfile.GFile is deprecated. Please use tf.io.gfile.GFile instead.\n",
            "\n"
          ],
          "name": "stdout"
        },
        {
          "output_type": "stream",
          "text": [
            "WARNING:tensorflow:From /usr/local/lib/python3.6/dist-packages/bert/tokenization.py:125: The name tf.gfile.GFile is deprecated. Please use tf.io.gfile.GFile instead.\n",
            "\n"
          ],
          "name": "stderr"
        },
        {
          "output_type": "display_data",
          "data": {
            "application/vnd.jupyter.widget-view+json": {
              "model_id": "7bf06745597845e1a32daa66e47ce1c4",
              "version_minor": 0,
              "version_major": 2
            },
            "text/plain": [
              "HBox(children=(IntProgress(value=0, description='Converting examples to features', max=11523, style=ProgressSt…"
            ]
          },
          "metadata": {
            "tags": []
          }
        },
        {
          "output_type": "stream",
          "text": [
            "\n"
          ],
          "name": "stdout"
        },
        {
          "output_type": "display_data",
          "data": {
            "application/vnd.jupyter.widget-view+json": {
              "model_id": "f1a8009183f8475c8747aedaf9814eb4",
              "version_minor": 0,
              "version_major": 2
            },
            "text/plain": [
              "HBox(children=(IntProgress(value=0, description='Converting examples to features', max=2881, style=ProgressSty…"
            ]
          },
          "metadata": {
            "tags": []
          }
        },
        {
          "output_type": "stream",
          "text": [
            "\n"
          ],
          "name": "stdout"
        }
      ]
    },
    {
      "cell_type": "code",
      "metadata": {
        "id": "rHBCybOIjSvI",
        "colab_type": "code",
        "colab": {}
      },
      "source": [
        "# Instantiate the custom Bert Layer defined above\n",
        "class BertLayer(tf.keras.layers.Layer):\n",
        "    def __init__(\n",
        "        self,\n",
        "        n_fine_tune_layers=10,\n",
        "        pooling=\"first\",\n",
        "        bert_path=\"https://tfhub.dev/google/bert_uncased_L-12_H-768_A-12/1\",\n",
        "        **kwargs,\n",
        "    ):\n",
        "        self.n_fine_tune_layers = n_fine_tune_layers\n",
        "        self.trainable = True\n",
        "        self.output_size = 768\n",
        "        self.pooling = pooling\n",
        "        self.bert_path = bert_path\n",
        "        if self.pooling not in [\"first\", \"mean\"]:\n",
        "            raise NameError(\n",
        "                f\"Undefined pooling type (must be either first or mean, but is {self.pooling}\"\n",
        "            )\n",
        "\n",
        "        super(BertLayer, self).__init__(**kwargs)\n",
        "\n",
        "    def build(self, input_shape):\n",
        "        self.bert = hub.Module(\n",
        "            self.bert_path, trainable=self.trainable, name=f\"{self.name}_module\"\n",
        "        )\n",
        "\n",
        "        # Remove unused layers\n",
        "        trainable_vars = self.bert.variables\n",
        "        if self.pooling == \"first\":\n",
        "            trainable_vars = [var for var in trainable_vars if not \"/cls/\" in var.name]\n",
        "            trainable_layers = [\"pooler/dense\"]\n",
        "\n",
        "        elif self.pooling == \"mean\":\n",
        "            trainable_vars = [\n",
        "                var\n",
        "                for var in trainable_vars\n",
        "                if not \"/cls/\" in var.name and not \"/pooler/\" in var.name\n",
        "            ]\n",
        "            trainable_layers = []\n",
        "        else:\n",
        "            raise NameError(\n",
        "                f\"Undefined pooling type (must be either first or mean, but is {self.pooling}\"\n",
        "            )\n",
        "\n",
        "        # Select how many layers to fine tune\n",
        "        for i in range(self.n_fine_tune_layers):\n",
        "            trainable_layers.append(f\"encoder/layer_{str(11 - i)}\")\n",
        "\n",
        "        # Update trainable vars to contain only the specified layers\n",
        "        trainable_vars = [\n",
        "            var\n",
        "            for var in trainable_vars\n",
        "            if any([l in var.name for l in trainable_layers])\n",
        "        ]\n",
        "\n",
        "        # Add to trainable weights\n",
        "        for var in trainable_vars:\n",
        "            self._trainable_weights.append(var)\n",
        "\n",
        "        for var in self.bert.variables:\n",
        "            if var not in self._trainable_weights:\n",
        "                self._non_trainable_weights.append(var)\n",
        "\n",
        "        super(BertLayer, self).build(input_shape)\n",
        "\n",
        "    def call(self, inputs):\n",
        "        inputs = [K.cast(x, dtype=\"int32\") for x in inputs]\n",
        "        input_ids, input_mask, segment_ids = inputs\n",
        "        bert_inputs = dict(\n",
        "            input_ids=input_ids, input_mask=input_mask, segment_ids=segment_ids\n",
        "        )\n",
        "        if self.pooling == \"first\":\n",
        "            pooled = self.bert(inputs=bert_inputs, signature=\"tokens\", as_dict=True)[\n",
        "                \"pooled_output\"\n",
        "            ]\n",
        "        elif self.pooling == \"mean\":\n",
        "            result = self.bert(inputs=bert_inputs, signature=\"tokens\", as_dict=True)[\n",
        "                \"sequence_output\"\n",
        "            ]\n",
        "\n",
        "            mul_mask = lambda x, m: x * tf.expand_dims(m, axis=-1)\n",
        "            masked_reduce_mean = lambda x, m: tf.reduce_sum(mul_mask(x, m), axis=1) / (\n",
        "                    tf.reduce_sum(m, axis=1, keepdims=True) + 1e-10)\n",
        "            input_mask = tf.cast(input_mask, tf.float32)\n",
        "            pooled = masked_reduce_mean(result, input_mask)\n",
        "        else:\n",
        "            raise NameError(f\"Undefined pooling type (must be either first or mean, but is {self.pooling}\")\n",
        "\n",
        "        return pooled\n",
        "\n",
        "    def compute_output_shape(self, input_shape):\n",
        "        return (input_shape[0], self.output_size)"
      ],
      "execution_count": 0,
      "outputs": []
    },
    {
      "cell_type": "code",
      "metadata": {
        "id": "mdFPtJNEjSyc",
        "colab_type": "code",
        "outputId": "bd74aa5d-6f30-43c5-e52f-7d7e36c69f9d",
        "colab": {
          "base_uri": "https://localhost:8080/",
          "height": 972
        }
      },
      "source": [
        "\n",
        "max_seq_length = max_length\n",
        "in_id = tf.keras.layers.Input(shape=(max_seq_length,), name=\"input_ids\")\n",
        "in_mask = tf.keras.layers.Input(shape=(max_seq_length,), name=\"input_masks\")\n",
        "in_segment = tf.keras.layers.Input(shape=(max_seq_length,), name=\"segment_ids\")\n",
        "bert_inputs = [in_id, in_mask, in_segment]\n",
        "\n",
        "\n",
        "sgd = optimizers.SGD(lr=0.01, decay=1e-6, momentum=0.9, nesterov=True)\n",
        "bert_output = BertLayer(n_fine_tune_layers=3)(bert_inputs)\n",
        "# Build the rest of the classifier \n",
        "dense = tf.keras.layers.Dense(512, activation='relu')(bert_output)\n",
        "pred = tf.keras.layers.Dense(3, activation='softmax')(dense)\n",
        "model_bert = tf.keras.models.Model(inputs=bert_inputs, outputs=pred)\n",
        "model_bert.compile(loss='categorical_crossentropy', \n",
        "                   optimizer='sgd', \n",
        "                   metrics=['accuracy'])\n",
        "model_bert.summary()\n",
        "\n",
        "sess.run(tf.local_variables_initializer())\n",
        "sess.run(tf.global_variables_initializer())\n",
        "sess.run(tf.tables_initializer())\n",
        "K.set_session(sess)\n",
        "class_weights_coef = class_weight_balance(Y.flatten())\n",
        "\n",
        "model2 = model_bert.fit(\n",
        "    [train_input_ids, train_input_masks, train_segment_ids],\n",
        "    train_label,\n",
        "    validation_data=(\n",
        "        [test_input_ids, test_input_masks, test_segment_ids],\n",
        "        test_label,\n",
        "    ),\n",
        "    epochs=15,\n",
        "    batch_size=64,\n",
        "    class_weight =class_weights_coef\n",
        ")"
      ],
      "execution_count": 0,
      "outputs": [
        {
          "output_type": "stream",
          "text": [
            "INFO:tensorflow:Saver not created because there are no variables in the graph to restore\n"
          ],
          "name": "stdout"
        },
        {
          "output_type": "stream",
          "text": [
            "INFO:tensorflow:Saver not created because there are no variables in the graph to restore\n"
          ],
          "name": "stderr"
        },
        {
          "output_type": "stream",
          "text": [
            "Model: \"model_6\"\n",
            "__________________________________________________________________________________________________\n",
            "Layer (type)                    Output Shape         Param #     Connected to                     \n",
            "==================================================================================================\n",
            "input_ids (InputLayer)          [(None, 176)]        0                                            \n",
            "__________________________________________________________________________________________________\n",
            "input_masks (InputLayer)        [(None, 176)]        0                                            \n",
            "__________________________________________________________________________________________________\n",
            "segment_ids (InputLayer)        [(None, 176)]        0                                            \n",
            "__________________________________________________________________________________________________\n",
            "bert_layer_5 (BertLayer)        (None, 768)          110104890   input_ids[0][0]                  \n",
            "                                                                 input_masks[0][0]                \n",
            "                                                                 segment_ids[0][0]                \n",
            "__________________________________________________________________________________________________\n",
            "dense_12 (Dense)                (None, 512)          393728      bert_layer_5[0][0]               \n",
            "__________________________________________________________________________________________________\n",
            "dense_13 (Dense)                (None, 3)            1539        dense_12[0][0]                   \n",
            "==================================================================================================\n",
            "Total params: 110,500,157\n",
            "Trainable params: 22,249,475\n",
            "Non-trainable params: 88,250,682\n",
            "__________________________________________________________________________________________________\n",
            "Train on 11523 samples, validate on 2881 samples\n",
            "Epoch 1/15\n",
            "11523/11523 [==============================] - 131s 11ms/sample - loss: 0.6553 - acc: 0.7303 - val_loss: 0.9563 - val_acc: 0.7008\n",
            "Epoch 2/15\n",
            "11523/11523 [==============================] - 124s 11ms/sample - loss: 0.4837 - acc: 0.8069 - val_loss: 0.4876 - val_acc: 0.8025\n",
            "Epoch 3/15\n",
            "11523/11523 [==============================] - 124s 11ms/sample - loss: 0.4309 - acc: 0.8313 - val_loss: 1.0604 - val_acc: 0.5689\n",
            "Epoch 4/15\n",
            "11523/11523 [==============================] - 124s 11ms/sample - loss: 0.4026 - acc: 0.8422 - val_loss: 0.7803 - val_acc: 0.7470\n",
            "Epoch 5/15\n",
            "11523/11523 [==============================] - 124s 11ms/sample - loss: 0.3781 - acc: 0.8505 - val_loss: 0.7355 - val_acc: 0.7647\n",
            "Epoch 6/15\n",
            "11523/11523 [==============================] - 124s 11ms/sample - loss: 0.3461 - acc: 0.8662 - val_loss: 1.0094 - val_acc: 0.7043\n",
            "Epoch 7/15\n",
            "11523/11523 [==============================] - 124s 11ms/sample - loss: 0.3249 - acc: 0.8761 - val_loss: 0.6305 - val_acc: 0.7699\n",
            "Epoch 8/15\n",
            "11523/11523 [==============================] - 124s 11ms/sample - loss: 0.2799 - acc: 0.8944 - val_loss: 0.4501 - val_acc: 0.8310\n",
            "Epoch 9/15\n",
            "11523/11523 [==============================] - 124s 11ms/sample - loss: 0.2369 - acc: 0.9122 - val_loss: 0.4620 - val_acc: 0.8396\n",
            "Epoch 10/15\n",
            "11523/11523 [==============================] - 124s 11ms/sample - loss: 0.1830 - acc: 0.9349 - val_loss: 0.6322 - val_acc: 0.7900\n",
            "Epoch 11/15\n",
            "11523/11523 [==============================] - 124s 11ms/sample - loss: 0.1402 - acc: 0.9550 - val_loss: 1.6125 - val_acc: 0.7220\n",
            "Epoch 12/15\n",
            "11523/11523 [==============================] - 124s 11ms/sample - loss: 0.1121 - acc: 0.9649 - val_loss: 0.6003 - val_acc: 0.8320\n",
            "Epoch 13/15\n",
            "11523/11523 [==============================] - 124s 11ms/sample - loss: 0.0546 - acc: 0.9872 - val_loss: 0.7163 - val_acc: 0.8119\n",
            "Epoch 14/15\n",
            "11523/11523 [==============================] - 124s 11ms/sample - loss: 0.0298 - acc: 0.9944 - val_loss: 0.7295 - val_acc: 0.8334\n",
            "Epoch 15/15\n",
            "11523/11523 [==============================] - 124s 11ms/sample - loss: 0.0230 - acc: 0.9950 - val_loss: 0.7951 - val_acc: 0.8153\n"
          ],
          "name": "stdout"
        }
      ]
    },
    {
      "cell_type": "code",
      "metadata": {
        "id": "Igx5mWTLr3XH",
        "colab_type": "code",
        "outputId": "8185fadf-c5e8-42c0-ecc3-f2fceb7cad16",
        "colab": {
          "base_uri": "https://localhost:8080/",
          "height": 361
        }
      },
      "source": [
        "plt.figure(figsize=(15,5))\n",
        "plt.subplot(122)\n",
        "plt.plot([i+1 for i in model2.epoch],model2.history['acc'], color = 'red')\n",
        "plt.plot([i+1 for i in model2.epoch],model2.history['val_acc'])\n",
        "ylim_pad = [0 , 0]\n",
        "\n",
        "y1 = model2.history['acc']\n",
        "y2 = model2.history['val_acc']\n",
        "\n",
        "min_y = min(min(y1), min(y2))-ylim_pad[0]\n",
        "max_y = max(max(y1), max(y2))+ylim_pad[0]\n",
        "\n",
        "\n",
        "plt.title('BERT Model Accuracy, 10 epochs', fontsize = 15)\n",
        "plt.xlabel('Epoch', fontsize=15)\n",
        "plt.ylabel('Accuracy', fontsize=15)\n",
        "plt.ylim(min_y, max_y)\n",
        "plt.legend(['Training', 'Validation'], loc='upper left')\n",
        "plt.grid()\n",
        "plt.show()"
      ],
      "execution_count": 0,
      "outputs": [
        {
          "output_type": "display_data",
          "data": {
            "image/png": "[encoded data removed]",
            "text/plain": [
              "<Figure size 1080x360 with 1 Axes>"
            ]
          },
          "metadata": {
            "tags": []
          }
        }
      ]
    },
    {
      "cell_type": "code",
      "metadata": {
        "id": "EZclCO9C5-7g",
        "colab_type": "code",
        "outputId": "7f984ad6-fd4b-4a50-fe1f-811e5035563e",
        "colab": {
          "base_uri": "https://localhost:8080/",
          "height": 51
        }
      },
      "source": [
        "print(max(model2.history['val_acc']))\n",
        "print(max(model1.history['val_acc']))"
      ],
      "execution_count": 0,
      "outputs": [
        {
          "output_type": "stream",
          "text": [
            "0.839639\n",
            "0.78375566\n"
          ],
          "name": "stdout"
        }
      ]
    },
    {
      "cell_type": "code",
      "metadata": {
        "id": "B1JfiIEnAx8y",
        "colab_type": "code",
        "colab": {}
      },
      "source": [
        ""
      ],
      "execution_count": 0,
      "outputs": []
    }
  ]
}